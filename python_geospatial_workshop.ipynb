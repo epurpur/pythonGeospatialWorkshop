{
 "cells": [
  {
   "cell_type": "markdown",
   "id": "4ef33980-61b5-4a87-8adb-71331e6a6553",
   "metadata": {},
   "source": [
    "# Geospatial Data & Mapping In Python"
   ]
  },
  {
   "cell_type": "markdown",
   "id": "872e5c94-79aa-4908-93f1-1af5e47c3ffb",
   "metadata": {},
   "source": [
    "**Step 1**"
   ]
  },
  {
   "cell_type": "code",
   "execution_count": null,
   "id": "81698088-65da-4971-a76a-5ca54daccab2",
   "metadata": {},
   "outputs": [],
   "source": [
    "# Install geopandas and descartes libraries\n",
    "!conda install --yes geopandas descartes contextily"
   ]
  },
  {
   "cell_type": "code",
   "execution_count": null,
   "id": "9b5e814d-a395-45c2-a89b-971ab2702db9",
   "metadata": {},
   "outputs": [],
   "source": [
    "# Install Folium Library\n",
    "!pip install contextily folium\n",
    "\n",
    "# If the above didn't work, try this\n",
    "#!conda install --yes folium -c conda-forge"
   ]
  },
  {
   "cell_type": "code",
   "execution_count": null,
   "id": "22b652f2-1ad2-4b11-b329-ee32ab97effb",
   "metadata": {},
   "outputs": [],
   "source": [
    "#for pandas/geopandas\n",
    "import pandas as pd\n",
    "import geopandas as gpd\n",
    "import descartes\n",
    "import contextily\n",
    "import matplotlib.pyplot as plt\n",
    "\n",
    "# for folium\n",
    "import folium"
   ]
  },
  {
   "cell_type": "markdown",
   "id": "8e031fb0-63e9-444e-87be-0612a8415b6b",
   "metadata": {},
   "source": [
    "## Set Up Your Filepath\n",
    "I am doing this here to make the rest of the workshop smoother. We will be importing files in order to work with them. It will make sense why I am doing this later in the workshop"
   ]
  },
  {
   "cell_type": "markdown",
   "id": "6b1ce4a2-ca21-49dd-8125-af6d8fae80fe",
   "metadata": {},
   "source": [
    "**Step 2**"
   ]
  },
  {
   "cell_type": "code",
   "execution_count": null,
   "id": "ad702d1f-53a0-49df-a99c-cd3906cedeb0",
   "metadata": {},
   "outputs": [],
   "source": [
    "# example: /Users/ep9k/Desktop/\n",
    "\n",
    "my_path = './cville_gis_data'"
   ]
  },
  {
   "cell_type": "markdown",
   "id": "88061330-f79c-4c7b-be16-3683f15c24be",
   "metadata": {},
   "source": [
    "## Pandas - A quick overview\n",
    "\n",
    "If you are not familiar with it, [Pandas](https://pandas.pydata.org/) is a widely used python library (along with its counterparts Matplotlib, NumPy, SciPy, etc..) which allows data analysis and manipulation. Pandas uses **dataframes**, which are a spreadsheet-like data type, to allow you to manipulate your data much in the same way you can in Microsoft Excel or similar programs."
   ]
  },
  {
   "cell_type": "markdown",
   "id": "aaadb85c-6abb-4c67-ba93-f10c88467931",
   "metadata": {},
   "source": [
    "**Step 3**"
   ]
  },
  {
   "cell_type": "code",
   "execution_count": null,
   "id": "39b05ae9-8cb3-419f-8698-2cd12e6dfaee",
   "metadata": {},
   "outputs": [],
   "source": [
    "# Create an example dataframe\n",
    "\n",
    "# initialize data of lists.\n",
    "data = {'Name': ['Amy', 'Nick', 'John', 'Emily'],\n",
    "        'Age': [20, 21, 19, 18]}\n",
    "  \n",
    "# Create DataFrame\n",
    "df = pd.DataFrame(data)\n",
    "  \n",
    "# Print the output.\n",
    "df"
   ]
  },
  {
   "cell_type": "markdown",
   "id": "ec1201dc-d841-4205-b11f-6e2cc1adc792",
   "metadata": {},
   "source": [
    "## GeoPandas\n",
    "\n",
    "**From the [GeoPandas Documentation](https://geopandas.org/en/stable/index.html)**: GeoPandas is an open source project to make working with geospatial data in python easier. GeoPandas extends the datatypes used by pandas to allow spatial operations on geometric types. Geometric operations are performed by [Shapely](https://shapely.readthedocs.io/en/stable/). Geopandas further depends on [Fiona](https://fiona.readthedocs.io/en/latest/) for file access and [MatPlotLib](https://matplotlib.org/) for plotting.\n",
    "\n",
    "Basically, GeoPandas allows python users to do mapping, plotting, and geospatial operations all within python. No more mixing between other programs!\n",
    "\n",
    "#### A Note on our data source\n",
    "\n",
    "All the data we are using today is from the [City of Charlottesville's Open Data Portal](https://opendata.charlottesville.org/). This is freely available data that the city provides to the public. "
   ]
  },
  {
   "cell_type": "markdown",
   "id": "d32127ce-df05-4ebd-9d9b-13c434ad5007",
   "metadata": {},
   "source": [
    "**Step 4**"
   ]
  },
  {
   "cell_type": "code",
   "execution_count": null,
   "id": "e3bd5dde-5e2c-4917-bd10-ecf6ada9c59b",
   "metadata": {},
   "outputs": [],
   "source": [
    "# Reading GeoJSON.  GeoJSON is a common geospatial data format that you will encounter. It is basically just structured text.\n",
    "cville_boundary = gpd.read_file(my_path + '/Charlottesville_Basemap.geojson')"
   ]
  },
  {
   "cell_type": "code",
   "execution_count": null,
   "id": "1d0e4dd1-c4ff-439b-92d9-a1538dcc9b29",
   "metadata": {},
   "outputs": [],
   "source": [
    "cville_boundary.plot()"
   ]
  },
  {
   "cell_type": "markdown",
   "id": "ec91949c-e7c1-4152-b5a5-b2991ff47124",
   "metadata": {},
   "source": [
    "### GeoPandas GeoDataFrame\n",
    "\n",
    "In GeoPandas, the GeoDataFrame is a common data type. This is basically just like a Pandas dataframe but with a geometry component. "
   ]
  },
  {
   "cell_type": "markdown",
   "id": "a319adf5-1723-4b98-a037-cb5b92071dae",
   "metadata": {},
   "source": [
    "**Step 5**"
   ]
  },
  {
   "cell_type": "code",
   "execution_count": null,
   "id": "3e38cb1e-e0f9-48e3-909c-cbe50d7bdf26",
   "metadata": {},
   "outputs": [],
   "source": [
    "print(type(df))                  # normal pandas dataframe\n",
    "print(type(cville_boundary))     # geopandas geodataframe"
   ]
  },
  {
   "cell_type": "code",
   "execution_count": null,
   "id": "c537d50a-0dc8-4f33-b0ca-46b9c3fe3208",
   "metadata": {},
   "outputs": [],
   "source": [
    "# let's take a look and see what is inside this GeoDataFrame\n",
    "cville_boundary"
   ]
  },
  {
   "cell_type": "markdown",
   "id": "7daa50ac-7998-476c-88b1-6240cc59e5d3",
   "metadata": {},
   "source": [
    "In a GeoDataFrame, there is a **geometry** column. This column holds the spatial information about the object(s) in the GeoDataFrame. This will look different depending on what type of object the GeoDataFrame is (point, line, polygon, multipolygon, etc.)"
   ]
  },
  {
   "cell_type": "code",
   "execution_count": null,
   "id": "96f647e3-debf-4007-809f-66a7e9971b06",
   "metadata": {},
   "outputs": [],
   "source": [
    "print(cville_boundary.columns.to_list())\n",
    "print()\n",
    "print(cville_boundary['geometry'])"
   ]
  },
  {
   "cell_type": "markdown",
   "id": "c3950bff-e7e7-44b8-b17f-d165146b58a7",
   "metadata": {},
   "source": [
    "**Step 6**"
   ]
  },
  {
   "cell_type": "code",
   "execution_count": null,
   "id": "40c0feb3-f4f7-45c8-982e-c3ee04e80f8e",
   "metadata": {},
   "outputs": [],
   "source": [
    "# now we read in roads layer. Notice that this is a little more exciting as there are quite a few roads within city limits\n",
    "\n",
    "roads = gpd.read_file(my_path + '/Road_centerlines.shp')\n",
    "roads"
   ]
  },
  {
   "cell_type": "code",
   "execution_count": null,
   "id": "7b7d565b-9326-4dc4-a7cb-4dbfc88a37ef",
   "metadata": {},
   "outputs": [],
   "source": [
    "# Now let's look at the roads layer.\n",
    "\n",
    "roads.plot()"
   ]
  },
  {
   "cell_type": "markdown",
   "id": "253f8dfa-f184-4b2e-bac5-8e1c9cedf5f9",
   "metadata": {},
   "source": [
    "### Overlay multiple layers\n",
    "\n",
    "Plot differenty layers on top of each other, basically stacking them on top of one another.\n",
    "We are not just limited to two layers, you can stack many layers"
   ]
  },
  {
   "cell_type": "markdown",
   "id": "ab2e5c83-0149-4a5f-b74c-df697bfdc31e",
   "metadata": {},
   "source": [
    "**Step 7**"
   ]
  },
  {
   "cell_type": "code",
   "execution_count": null,
   "id": "0eb06be5-37cd-4461-9005-3908b8925c00",
   "metadata": {},
   "outputs": [],
   "source": [
    "# why is this setup used for multiple layers??\n",
    "# because the docs say so! ex: https://geopandas.org/en/stable/docs/user_guide/mapping.html?highlight=multiple%20layers#control-the-order-of-multiple-layers-in-a-plot\n",
    "\n",
    "fig, ax = plt.subplots(figsize=(10,8))\n",
    "cville_boundary.plot(ax=ax, edgecolor='black')\n",
    "roads.plot(ax=ax, color='white')"
   ]
  },
  {
   "cell_type": "markdown",
   "id": "f4d3130f-031e-4771-b80b-1bf874e9ad96",
   "metadata": {},
   "source": [
    "### Add a basemap\n",
    "\n",
    "Basemaps are commonly satellite or similar imagery that is used as a locator or for backdrop.\n",
    "We will use the Contextily library as a basemap in this case"
   ]
  },
  {
   "cell_type": "markdown",
   "id": "f2abeeda-9380-47cf-a9c8-e9045da6c7d8",
   "metadata": {},
   "source": [
    "**Step 8**"
   ]
  },
  {
   "cell_type": "code",
   "execution_count": null,
   "id": "50b97e71-f37f-45a6-97ee-aa18b71e3cb5",
   "metadata": {},
   "outputs": [],
   "source": [
    "# find this code in geopanda docs: https://geopandas.org/en/stable/gallery/plotting_basemap_background.html?highlight=basemap\n",
    "\n",
    "ax = cville_boundary.plot(figsize=(10,8), alpha=0.5)\n",
    "contextily.add_basemap(ax, crs=roads.crs)"
   ]
  },
  {
   "cell_type": "markdown",
   "id": "0d7a6b56-ceff-4620-9b60-2aa9e007618a",
   "metadata": {},
   "source": [
    "## Working with Coordinate Reference Systems and Map Projections\n",
    "\n",
    "This is a big topic that we will not go too far into. Basically, the age old issue that geographers have faced it how to represent a round object (the earth) on a flat image such as a book, paper, computer screen, etc. At some point, coordinate reference systems and map projections were created in order to do that. \n",
    "\n",
    "The very short explanation of these two terms...\n",
    "\n",
    "**Coordinate Reference System (CRS)**\n",
    "Everything on the earth has a location. Today, this is commonly represented in latitude/longitude or XY coordinates. For example, Charlottesville is located at (38.03, -78.48) or 38.03N, 78.48W. \n",
    "\n",
    "**Map Projections**\n",
    "Though everything on the earth has an exact location, it is not always represented the same. This is where map projections come into play. Basically, a map projection is focused on representing various parts of the earth as accurately as possible. There are hundreds (maybe thousands?) of map projections and they can range in focus from parts of individual states, north america, eastern hemisphere, southern hemisphere, etc. "
   ]
  },
  {
   "cell_type": "markdown",
   "id": "73c51689-be34-45f3-b5df-587dec70b6ab",
   "metadata": {},
   "source": [
    "**Step 9**\n",
    "\n",
    "What are we currently using?"
   ]
  },
  {
   "cell_type": "code",
   "execution_count": null,
   "id": "734a2963-cd1f-4413-b9cd-f1694697a08e",
   "metadata": {},
   "outputs": [],
   "source": [
    "# WGS 1984 is a commonly used map projection that represents the entire world and is measured in decimal degrees\n",
    "cville_boundary.crs"
   ]
  },
  {
   "cell_type": "markdown",
   "id": "087e38e7-0b12-4d4b-b345-a1b3b8c7fdaf",
   "metadata": {},
   "source": [
    "#### Change the CRS of a layer(s)\n",
    "\n",
    "If you don't like the CRS your data comes with or need to change it, you can do that"
   ]
  },
  {
   "cell_type": "markdown",
   "id": "d0fcd4d2-75a7-42c0-9510-e350cb20da0f",
   "metadata": {},
   "source": [
    "**Step 10**"
   ]
  },
  {
   "cell_type": "code",
   "execution_count": null,
   "id": "680eba3a-4410-4142-92eb-b6dde999f83e",
   "metadata": {},
   "outputs": [],
   "source": [
    "#I will change both layers to a CRS that measures in feet\n",
    "# EPSG 32046 is a Virginia State Plane CRS measured in feet\n",
    "\n",
    "cville_boundary = cville_boundary.to_crs(epsg = 32046)\n",
    "roads = roads.to_crs(epsg = 32046)"
   ]
  },
  {
   "cell_type": "code",
   "execution_count": null,
   "id": "7349c7e4-aef6-4297-856d-97e04b76b2ef",
   "metadata": {},
   "outputs": [],
   "source": [
    "# and plot them again. Notice the units of measurement are now different! (Now in feet)\n",
    "\n",
    "fig, ax = plt.subplots(figsize=(10,8))\n",
    "cville_boundary.rotate(90)\n",
    "cville_boundary.plot(ax=ax, edgecolor='black')\n",
    "roads.plot(ax=ax, color='orange')"
   ]
  },
  {
   "cell_type": "markdown",
   "id": "db760c73-3d31-4ed5-91ca-a515cfc3a2cd",
   "metadata": {},
   "source": [
    "## Geospatial Operations\n",
    "\n",
    "Some of the many amazing things that GeoPandas can do are geospatial operations previously unavailable (to my knowledge) in python. Now, you don't have to do them using another GIS software such as ArcGIS or QGIS or a Geospatial Database such as PostgreSQL. You can do it right in python!\n",
    "\n",
    "Let's do a few common geospatial operations such as intersections, measuring distances, manipulating the attribute table, etc."
   ]
  },
  {
   "cell_type": "markdown",
   "id": "2211fa7e-94aa-4fdb-914b-582320c634f2",
   "metadata": {},
   "source": [
    "**Step 11**"
   ]
  },
  {
   "cell_type": "code",
   "execution_count": null,
   "id": "7ee3b35c-719e-4de0-87e9-68ae61cf08ec",
   "metadata": {},
   "outputs": [],
   "source": [
    "neighborhoods = gpd.read_file(my_path + '/neighborhoods.geojson')\n",
    "\n",
    "neighborhoods.plot(column='NAME', cmap='jet')\n",
    "\n",
    "#neighborhoods"
   ]
  },
  {
   "cell_type": "code",
   "execution_count": null,
   "id": "10d242c2-4280-42c5-afbe-655e7ba933fc",
   "metadata": {},
   "outputs": [],
   "source": [
    "# you can symbolize any of the fields in this geodataframe easily!\n",
    "# One of the other columns in this dataset is 'Planner'. This is not really that meaningful but this is the City of Charlottesville planner who is responsible for this neighborhoo\n",
    "# Another example of this is the 'Engineer' column\n",
    "\n",
    "neighborhoods.plot(column='PLANNER')\n",
    "\n",
    "neighborhoods.plot(column='ENGINEER')"
   ]
  },
  {
   "cell_type": "code",
   "execution_count": null,
   "id": "1d9ae9d5-b929-4e8c-86db-e712d109a9fb",
   "metadata": {},
   "outputs": [],
   "source": [
    "# convert our new layers to the same CRS as the others\n",
    "neighborhoods = neighborhoods.to_crs(epsg = 32046)"
   ]
  },
  {
   "cell_type": "markdown",
   "id": "484cdc1c-f270-4680-9465-718243514a49",
   "metadata": {},
   "source": [
    "### Intersections\n",
    "\n",
    "We will now how layers intersect with each other. First I will make a new layer that is just the Woolen Mills neighborhood\n",
    "\n",
    "**Step 12**"
   ]
  },
  {
   "cell_type": "code",
   "execution_count": null,
   "id": "06522e57-b41d-4916-9f3b-ba4981fc2373",
   "metadata": {},
   "outputs": [],
   "source": [
    "# using exactly the same methods as in regular pandas to extract the data I want\n",
    "woolen_mills = neighborhoods.loc[neighborhoods['NAME'] == 'Woolen Mills']\n",
    "woolen_mills = woolen_mills.to_crs(epsg = 32046)\n",
    "woolen_mills.plot()\n",
    "\n",
    "\n",
    "\n",
    "# plot the new woolen mills layer over the cville_boundary layer\n",
    "fig, ax = plt.subplots(figsize=(10,8))\n",
    "cville_boundary.plot(ax=ax, edgecolor='black')\n",
    "woolen_mills.plot(ax=ax, color='red', edgecolor='black')\n",
    "\n"
   ]
  },
  {
   "cell_type": "code",
   "execution_count": null,
   "id": "53cfe080-e78d-42e2-81c6-defe0a47eb83",
   "metadata": {},
   "outputs": [],
   "source": [
    "woolen_mills_roads = gpd.overlay(roads, woolen_mills, how='intersection')\n",
    "\n",
    "#plot all of charlottesville, woolen mills, roads, and the roads in woolen mills\n",
    "fig, ax = plt.subplots(figsize=(10,8))\n",
    "cville_boundary.plot(ax=ax, edgecolor='black')\n",
    "roads.plot(ax=ax, color='white')\n",
    "woolen_mills.plot(ax=ax, color='red', edgecolor='black')\n",
    "woolen_mills_roads.plot(ax=ax, color='black')"
   ]
  },
  {
   "cell_type": "markdown",
   "id": "a26da01f-ce69-420d-8c99-3435074ca110",
   "metadata": {},
   "source": [
    "### Buffers\n",
    "\n",
    "Another common operation is to create a buffer around an object\n",
    "\n",
    "**Step 13**"
   ]
  },
  {
   "cell_type": "code",
   "execution_count": null,
   "id": "9fb720ee-958e-45c6-8254-6a0ae7d82327",
   "metadata": {},
   "outputs": [],
   "source": [
    "# first, let's import a few new layers\n",
    "\n",
    "cemeteries = gpd.read_file(my_path + '/cemeteries.geojson')\n",
    "cemeteries = cemeteries.to_crs(32046)\n",
    "\n",
    "# the cemeteries are polygons (shapes) of the entire cemetery. I want to measure distance point to point in this case\n",
    "# I will create a centroid point for each of the cemeteries\n",
    "cemeteries['centroid'] = cemeteries.centroid\n",
    "\n",
    "cemeteries['buffer'] = cemeteries['centroid'].buffer(1320)    #remember, this is being measured in feet. 1320 feet is 1/4 mile\n",
    " \n",
    "cemeteries_buffer = cemeteries['buffer']\n",
    "\n",
    "fig, ax = plt.subplots(figsize=(10,8))\n",
    "cemeteries_buffer.plot(ax=ax, color='red', alpha=0.5)\n",
    "cemeteries.plot(ax=ax, edgecolor='black')\n",
    "contextily.add_basemap(ax, crs=cemeteries.crs)\n"
   ]
  },
  {
   "cell_type": "markdown",
   "id": "89ed5835-c16f-432f-bc64-69528bc16ad3",
   "metadata": {},
   "source": [
    "### Exporting files\n",
    "\n",
    "You can export a GeoDataFrame to one of many geospatial file types such as geopackage, ESRI Shapefile, geoJSON, etc."
   ]
  },
  {
   "cell_type": "code",
   "execution_count": null,
   "id": "2e24c520-9353-4c46-8b80-0cedf7d1a14e",
   "metadata": {},
   "outputs": [],
   "source": [
    "#look in your data folder and you should have a new layer with the name 'NEW_GEOPACKAGE'\n",
    "roads.to_file(my_path + 'NEW_GEOPACKAGE.gpkg', layer='MY_NEW_LAYER', driver='GPKG')\n"
   ]
  },
  {
   "cell_type": "markdown",
   "id": "3ca6b139-cf04-4d35-acdd-a9333e958291",
   "metadata": {},
   "source": [
    "## Folium\n",
    "\n",
    "[Folium](http://python-visualization.github.io/folium/) is another python mapping library built on the popular Leaflet javascript library. Now, we can make nice web maps with python instead of javascript! The strength of folium is in its mapping capabilities. This is not a data manipulation library in the way that GeoPandas is. \n",
    "\n",
    "The following code examples I have taken mostly from the [Folium Docs](http://python-visualization.github.io/folium/quickstart.html) with very slight modifications. \n",
    "\n",
    "Also, I will be using publicly available data from the [City of Richmond's GeoHub](https://richmond-geo-hub-cor.hub.arcgis.com/)\n",
    "\n",
    "**Step 14**"
   ]
  },
  {
   "cell_type": "code",
   "execution_count": null,
   "id": "1f5b4463-de4a-4b73-ab6b-a116520b319e",
   "metadata": {},
   "outputs": [],
   "source": [
    "m = folium.Map(location=[37.5407, -77.436], zoom_start=10)\n",
    "m"
   ]
  },
  {
   "cell_type": "markdown",
   "id": "b5e34168-94ca-4a20-9d62-585a054c7e8f",
   "metadata": {},
   "source": [
    "### Add Data to the map\n",
    "\n",
    "We can add all the same kinds of data we had previously used.\n",
    "\n",
    "**Step 15**"
   ]
  },
  {
   "cell_type": "code",
   "execution_count": null,
   "id": "689467c9-caf6-47a9-b1b6-936774e27ea7",
   "metadata": {},
   "outputs": [],
   "source": [
    "# notice that I am streaming this data from a URL provided by the city of Richmond's data portal: https://richmond-geo-hub-cor.hub.arcgis.com/datasets/cor::public-libraries/about\n",
    "richmond_libraries = f\"https://services1.arcgis.com/k3vhq11XkBNeeOfM/arcgis/rest/services/PublicLibrary/FeatureServer/0/query?outFields=*&where=1%3D1&f=geojson\"\n",
    "\n",
    "m = folium.Map(\n",
    "    location=[37.5407, -77.436],\n",
    "    zoom_start=11,\n",
    ")\n",
    "\n",
    "folium.GeoJson(richmond_libraries, name=\"geojson\").add_to(m)\n",
    "\n",
    "m"
   ]
  },
  {
   "cell_type": "markdown",
   "id": "9c5c208e-a747-40c9-9899-9e32fb34d0c6",
   "metadata": {},
   "source": [
    "## Choropleth Maps\n",
    "\n",
    "Folium has some really nice looking mapping capabilities. These go far and beyond the simple plots of geopandas and matplotlib\n",
    "\n",
    "**Step 16**"
   ]
  },
  {
   "cell_type": "code",
   "execution_count": null,
   "id": "76f58f1b-33e2-4d4a-ba19-f1b8d78ef000",
   "metadata": {},
   "outputs": [],
   "source": [
    "url = (\n",
    "    \"https://raw.githubusercontent.com/python-visualization/folium/master/examples/data\"\n",
    ")\n",
    "state_geo = f\"{url}/us-states.json\"\n",
    "state_unemployment = f\"{url}/US_Unemployment_Oct2012.csv\"\n",
    "state_data = pd.read_csv(state_unemployment)\n",
    "\n",
    "m = folium.Map(location=[48, -102], zoom_start=3)\n",
    "\n",
    "folium.Choropleth(\n",
    "    geo_data=state_geo,\n",
    "    name=\"choropleth\",\n",
    "    data=state_data,\n",
    "    columns=[\"State\", \"Unemployment\"],\n",
    "    key_on=\"feature.id\",\n",
    "    fill_color=\"YlGn\",\n",
    "    fill_opacity=0.7,\n",
    "    line_opacity=0.2,\n",
    "    legend_name=\"Unemployment Rate (%)\",\n",
    ").add_to(m)\n",
    "\n",
    "folium.LayerControl().add_to(m)\n",
    "\n",
    "m"
   ]
  },
  {
   "cell_type": "markdown",
   "id": "2c8d67f6-1a1a-43d3-9703-e227419235c9",
   "metadata": {},
   "source": [
    "### Using GeoPandas with Folium\n",
    "\n",
    "We can plot using GeoPandas GeoDataFrames and the like\n",
    "\n",
    "**Step 17**"
   ]
  },
  {
   "cell_type": "code",
   "execution_count": null,
   "id": "d8d4f41e-522c-46b3-bb71-7638965a1b66",
   "metadata": {},
   "outputs": [],
   "source": [
    "#geopandas docs about plotting with folium: https://geopandas.org/en/stable/gallery/plotting_with_folium.html\n",
    "\n",
    "volcanoes = pd.read_csv(my_path + '/volcano_data_2010.csv')\n",
    "\n",
    "# keep only relevant columns\n",
    "volcanoes = volcanoes.loc[:, (\"Year\", \"Name\", \"Country\", \"Latitude\", \"Longitude\", \"Type\")]\n",
    "volcanoes"
   ]
  },
  {
   "cell_type": "code",
   "execution_count": null,
   "id": "bdf19cb4-4658-4d95-8bc3-f08259610743",
   "metadata": {},
   "outputs": [],
   "source": [
    "# create point geometries for the volcanoes\n",
    "geometry = gpd.points_from_xy(volcanoes['Longitude'], volcanoes['Latitude'])    # this makes point objects in an array\n",
    "\n",
    "volcanoes['geometry'] = geometry     # add points as new column to geodataframe\n",
    "volcanoes"
   ]
  },
  {
   "cell_type": "code",
   "execution_count": null,
   "id": "445d05a6-e8a3-43b1-b868-d28461dc1512",
   "metadata": {},
   "outputs": [],
   "source": [
    "#make map with OpenStreetMap basemap\n",
    "\n",
    "# OpenStreetMap\n",
    "mymap = folium.Map(location = [0, 0], tiles='OpenStreetMap' , zoom_start = 1)\n",
    "mymap"
   ]
  },
  {
   "cell_type": "markdown",
   "id": "9d018684-f649-4674-b08f-e7f3c198e684",
   "metadata": {},
   "source": [
    "### Make Markers for Each Volcano in Folium Map\n",
    "\n",
    "This is tricky stuff but basically we are iterating over each point in the geodataframe and creating a marker for it"
   ]
  },
  {
   "cell_type": "code",
   "execution_count": null,
   "id": "f8e32a46-d42f-495d-87a3-7da99a391932",
   "metadata": {},
   "outputs": [],
   "source": [
    "# Create Markers for Volcanoes\n",
    "\n",
    "# Create a geometry list from the GeoDataFrame\n",
    "geo_df_list = [[point.xy[1][0], point.xy[0][0]] for point in volcanoes.geometry ]\n",
    "\n",
    "# Iterate through list and add a marker for each volcano, color-coded by its type.\n",
    "i = 0\n",
    "for coordinates in geo_df_list:\n",
    "    #assign a color marker for the type of volcano, Strato being the most common\n",
    "    if volcanoes.Type[i] == \"Stratovolcano\":\n",
    "        type_color = \"green\"\n",
    "    elif volcanoes.Type[i] == \"Complex volcano\":\n",
    "        type_color = \"blue\"\n",
    "    elif volcanoes.Type[i] == \"Shield volcano\":\n",
    "        type_color = \"orange\"\n",
    "    elif volcanoes.Type[i] == \"Lava dome\":\n",
    "        type_color = \"pink\"\n",
    "    else:\n",
    "        type_color = \"purple\"\n",
    "\n",
    "\n",
    "    # Place the markers with the popup labels and data\n",
    "    mymap.add_child(folium.Marker(location = coordinates,\n",
    "                            popup =\n",
    "                            \"Year: \" + str(volcanoes.Year[i]) + '<br>' +\n",
    "                            \"Name: \" + str(volcanoes.Name[i]) + '<br>' +\n",
    "                            \"Country: \" + str(volcanoes.Country[i]) + '<br>'\n",
    "                            \"Type: \" + str(volcanoes.Type[i]) + '<br>'\n",
    "                            \"Coordinates: \" + str(geo_df_list[i]),\n",
    "                            icon = folium.Icon(color = \"%s\" % type_color)))\n",
    "    i = i + 1\n",
    "    \n",
    "mymap"
   ]
  },
  {
   "cell_type": "markdown",
   "id": "42fcfe61-2bdd-41f6-89ce-481fc2de2a4c",
   "metadata": {
    "tags": []
   },
   "source": [
    "## **Self Help - You don't need to remember all of this!**\n",
    "\n",
    "Honestly, you don't need to remember most of it. Here are the resources I use when looking for answers:\n",
    "\n",
    "ChatGPT\n",
    "* ChatGPT has quickly made huge changes to the programming landscape. It is a hugely powerful tool **If you use it the right way!**. I think it is a somewhat slippery slope of how to advise new programmers to use ChatGPT (or other AI tools) so I will refer to some best practices. My personal opinion is that you should use AI minimally when you are starting. When you have a better grasp of basic fundamentals, then you can include AI and greatly increase your speed. **Never accept ChatGPT code verbatim!** Always double check it before including it in your workflows.\n",
    "* [How to Effectively Learn to Program w/ ChatGPT](https://towardsdatascience.com/how-to-effectively-start-coding-in-the-era-of-chatgpt-cfc5151e1c42)\n",
    "* [Corey Schafer's \"How to use ChatGPT\"](https://www.youtube.com/watch?v=jRAAaDll34Q)\n",
    "\n",
    "[Matplotlib Documentation](https://matplotlib.org/3.1.1/index.html)\n",
    "\n",
    "[Stack Overflow](https://stackoverflow.com/) is a huge user community Q&A type site. Odds are very high that someone has \n",
    "asked your question before, just google something like \"how to make scatter plot matlplotlib python\". I'm pretty certain a \n",
    "StackOverflow thread will be one of the first few search results\n",
    "\n",
    "*Stack Overflow Etiquette*\n",
    "Don't just ask questions right away. Odds are high that for widely used packages, like matplotlib, a question and answer \n",
    "already exists. It is good practice to use that (and upvote it) if you like the answer. \n",
    "\n",
    "If you do ask a question, make sure it is specific and reproducible. People will downvote you and moderators will close the \n",
    "question if it is vague, incoherent, not-reproducible, or not clear in some other way. StackOverflow's purpose is to act as \n",
    "a reference guide, not as a forum to debate open ended questions such as \"what is better, matplotlib or ggplot?\". Go on \n",
    "Reddit if you want to do that. "
   ]
  },
  {
   "cell_type": "code",
   "execution_count": null,
   "id": "ef0156a7-71cf-4283-b23d-ed5c87b1ef62",
   "metadata": {},
   "outputs": [],
   "source": []
  }
 ],
 "metadata": {
  "kernelspec": {
   "display_name": "Python 3 (ipykernel)",
   "language": "python",
   "name": "python3"
  },
  "language_info": {
   "codemirror_mode": {
    "name": "ipython",
    "version": 3
   },
   "file_extension": ".py",
   "mimetype": "text/x-python",
   "name": "python",
   "nbconvert_exporter": "python",
   "pygments_lexer": "ipython3",
   "version": "3.9.7"
  }
 },
 "nbformat": 4,
 "nbformat_minor": 5
}
